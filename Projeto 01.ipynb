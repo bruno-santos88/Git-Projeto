{
 "cells": [
  {
   "cell_type": "code",
   "execution_count": null,
   "metadata": {},
   "outputs": [],
   "source": [
    "import pandas as pd\n",
    "import requests\n",
    "from plyer import notification\n",
    "from datetime import datetime"
   ]
  },
  {
   "cell_type": "code",
   "execution_count": null,
   "metadata": {},
   "outputs": [],
   "source": [
    "url = \"https://restcountries.com/v3.1/all\"\n",
    "response = requests.get(url)"
   ]
  },
  {
   "cell_type": "code",
   "execution_count": null,
   "metadata": {},
   "outputs": [],
   "source": [
    "if response.status_code == 200:\n",
    "    data_json = response.json()\n",
    "else:\n",
    "    print(\"Erro ao acessar API\")"
   ]
  },
  {
   "cell_type": "code",
   "execution_count": null,
   "metadata": {},
   "outputs": [],
   "source": [
    "if response.status_code == 200:\n",
    "    notification.notify(\n",
    "    title = 'Importação API',\n",
    "    message = f\"Import com Sucesso!\",\n",
    "    app_name = 'VSCODE ALERT!',\n",
    "    timeout = 10)\n",
    "else:\n",
    "    notification.notify(\n",
    "    title = 'Importação API',\n",
    "    message = f\"Erro na importação dos dados\",\n",
    "    app_name = 'VSCODE ALERT!',\n",
    "    timeout = 10)"
   ]
  },
  {
   "cell_type": "code",
   "execution_count": null,
   "metadata": {},
   "outputs": [],
   "source": [
    "data_json"
   ]
  },
  {
   "cell_type": "code",
   "execution_count": null,
   "metadata": {},
   "outputs": [],
   "source": [
    "paises_full = pd.DataFrame(data_json)\n",
    "paises_full.head(2)"
   ]
  },
  {
   "cell_type": "code",
   "execution_count": null,
   "metadata": {},
   "outputs": [],
   "source": [
    "nome        =[pais['name']['common'] for pais in data_json]\n",
    "region      =[pais['region'] for pais in data_json]\n",
    "population  =[pais['population'] for pais in data_json]\n",
    "currencies  =[pais['currencies']['name'] for pais in data_json]\n",
    "\n",
    "\n",
    "pop_paises = pd.DataFrame({\n",
    "    'Nome' : nome,\n",
    "    'População' : population\n",
    "})\n",
    "\n",
    "reg_paises = pd.DataFrame({\n",
    "    'Nome' : nome,\n",
    "    'Região' : region\n",
    "})\n",
    "\n",
    "cur_paises = pd.DataFrame({\n",
    "    'Nome' : nome,\n",
    "    'Moeda' : currencies\n",
    "})\n",
    "\n"
   ]
  },
  {
   "cell_type": "code",
   "execution_count": null,
   "metadata": {},
   "outputs": [],
   "source": [
    "cur_paises"
   ]
  }
 ],
 "metadata": {
  "kernelspec": {
   "display_name": "Python 3",
   "language": "python",
   "name": "python3"
  },
  "language_info": {
   "codemirror_mode": {
    "name": "ipython",
    "version": 3
   },
   "file_extension": ".py",
   "mimetype": "text/x-python",
   "name": "python",
   "nbconvert_exporter": "python",
   "pygments_lexer": "ipython3",
   "version": "3.11.4"
  },
  "orig_nbformat": 4
 },
 "nbformat": 4,
 "nbformat_minor": 2
}
